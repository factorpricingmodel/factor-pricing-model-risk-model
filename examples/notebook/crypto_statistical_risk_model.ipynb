{
 "cells": [
  {
   "cell_type": "code",
   "execution_count": 1,
   "metadata": {
    "tags": []
   },
   "outputs": [
    {
     "name": "stdout",
     "output_type": "stream",
     "text": [
      "Requirement already satisfied: matplotlib in /Users/gavinchan/workspace/env/lib/python3.10/site-packages (3.7.1)\n",
      "Requirement already satisfied: packaging>=20.0 in /Users/gavinchan/workspace/env/lib/python3.10/site-packages (from matplotlib) (23.1)\n",
      "Requirement already satisfied: kiwisolver>=1.0.1 in /Users/gavinchan/workspace/env/lib/python3.10/site-packages (from matplotlib) (1.4.4)\n",
      "Requirement already satisfied: numpy>=1.20 in /Users/gavinchan/workspace/env/lib/python3.10/site-packages (from matplotlib) (1.24.3)\n",
      "Requirement already satisfied: pillow>=6.2.0 in /Users/gavinchan/workspace/env/lib/python3.10/site-packages (from matplotlib) (9.5.0)\n",
      "Requirement already satisfied: pyparsing>=2.3.1 in /Users/gavinchan/workspace/env/lib/python3.10/site-packages (from matplotlib) (3.0.9)\n",
      "Requirement already satisfied: cycler>=0.10 in /Users/gavinchan/workspace/env/lib/python3.10/site-packages (from matplotlib) (0.11.0)\n",
      "Requirement already satisfied: python-dateutil>=2.7 in /Users/gavinchan/workspace/env/lib/python3.10/site-packages (from matplotlib) (2.8.2)\n",
      "Requirement already satisfied: contourpy>=1.0.1 in /Users/gavinchan/workspace/env/lib/python3.10/site-packages (from matplotlib) (1.0.7)\n",
      "Requirement already satisfied: fonttools>=4.22.0 in /Users/gavinchan/workspace/env/lib/python3.10/site-packages (from matplotlib) (4.39.4)\n",
      "Requirement already satisfied: six>=1.5 in /Users/gavinchan/workspace/env/lib/python3.10/site-packages (from python-dateutil>=2.7->matplotlib) (1.16.0)\n",
      "\n",
      "\u001b[1m[\u001b[0m\u001b[34;49mnotice\u001b[0m\u001b[1;39;49m]\u001b[0m\u001b[39;49m A new release of pip available: \u001b[0m\u001b[31;49m22.3.1\u001b[0m\u001b[39;49m -> \u001b[0m\u001b[32;49m23.1.2\u001b[0m\n",
      "\u001b[1m[\u001b[0m\u001b[34;49mnotice\u001b[0m\u001b[1;39;49m]\u001b[0m\u001b[39;49m To update, run: \u001b[0m\u001b[32;49mpip install --upgrade pip\u001b[0m\n"
     ]
    }
   ],
   "source": [
    "!pip install matplotlib"
   ]
  },
  {
   "cell_type": "code",
   "execution_count": 2,
   "metadata": {
    "tags": []
   },
   "outputs": [],
   "source": [
    "%load_ext autoreload\n",
    "%autoreload 2"
   ]
  },
  {
   "cell_type": "code",
   "execution_count": 3,
   "metadata": {
    "tags": []
   },
   "outputs": [],
   "source": [
    "from functools import partial\n",
    "from os import listdir\n",
    "from os.path import join, isfile\n",
    "from tempfile import TemporaryDirectory\n",
    "from zipfile import ZipFile\n",
    "\n",
    "import numpy as np\n",
    "import pandas as pd\n",
    "\n",
    "from IPython.display import display"
   ]
  },
  {
   "cell_type": "markdown",
   "metadata": {},
   "source": [
    "# Load top 50 marketcap historical data from Kaggle dataset"
   ]
  },
  {
   "cell_type": "code",
   "execution_count": 4,
   "metadata": {
    "tags": []
   },
   "outputs": [],
   "source": [
    "estimation_universe_all = {}\n",
    "\n",
    "# with tarfile.open(\"crypto_estimation_universe.zip\", \"r:gz\") as gzip_file:\n",
    "with ZipFile(\"crypto_estimation_universe.zip\", 'r') as zip_ref:\n",
    "    with TemporaryDirectory() as temp_dir:\n",
    "        zip_ref.extractall(temp_dir)\n",
    "        files = [\n",
    "            (join(temp_dir, f), f.replace(\".csv\", \"\"))\n",
    "            for f in listdir(temp_dir) \n",
    "            if isfile(join(temp_dir, f))\n",
    "        ]\n",
    "\n",
    "        for file_path, name in files:\n",
    "            df = pd.read_csv(file_path)\n",
    "            df = df.set_index(\"date\")\n",
    "            df.index = pd.to_datetime(df.index)\n",
    "            estimation_universe_all[name] = df"
   ]
  },
  {
   "cell_type": "markdown",
   "metadata": {},
   "source": [
    "# Prepare the data\n",
    "\n",
    "- Retrieve prices and derivate daily returns from them\n",
    "- Retrieve volumes and marketcap"
   ]
  },
  {
   "cell_type": "code",
   "execution_count": 5,
   "metadata": {
    "tags": []
   },
   "outputs": [],
   "source": [
    "# Prices and daily returns\n",
    "est_universe_prices = {\n",
    "    key: df[\"price\"]\n",
    "    for key, df in estimation_universe_all.items()\n",
    "}\n",
    "est_universe_prices = pd.DataFrame(est_universe_prices)\n",
    "est_universe_prices = est_universe_prices.ffill().groupby(est_universe_prices.index.date).first()\n",
    "est_universe_prices.index = pd.to_datetime(est_universe_prices.index)\n",
    "est_universe_returns = est_universe_prices.pct_change()\n",
    "# Volumns\n",
    "est_universe_volumes = {\n",
    "    key: df[\"total_volume\"]\n",
    "    for key, df in estimation_universe_all.items()\n",
    "}\n",
    "est_universe_volumes = pd.DataFrame(est_universe_volumes)\n",
    "est_universe_volumes.index = pd.to_datetime(est_universe_volumes.index)\n",
    "est_universe_volumes = est_universe_volumes.groupby(est_universe_volumes.index.date).first()\n",
    "# Marketcap\n",
    "est_universe_marketcap = {\n",
    "    key: df[\"market_cap\"]\n",
    "    for key, df in estimation_universe_all.items()\n",
    "}\n",
    "est_universe_marketcap = pd.DataFrame(est_universe_marketcap)\n",
    "est_universe_marketcap.index = pd.to_datetime(est_universe_marketcap.index)\n",
    "est_universe_marketcap = est_universe_marketcap.ffill().groupby(est_universe_marketcap.index.date).first()"
   ]
  },
  {
   "cell_type": "markdown",
   "metadata": {},
   "source": [
    "# Construct estimation universe\n",
    "\n",
    "Estimation universe is constructed by selecting the instruments by the following\n",
    "criteria in the ascending order\n",
    "\n",
    "1. Active trading for at least 6 months\n",
    "2. Median of past 6-month daily (absolute) returns should exceed 0.5% (Stablecoin exclusion)\n",
    "3. Rank the instruments by market cap and exclude the lower rank instruments if they are\n",
    "   highly correlated with other instruments. (For example, ETH and staked Ether)\n"
   ]
  },
  {
   "cell_type": "code",
   "execution_count": 6,
   "metadata": {
    "tags": []
   },
   "outputs": [],
   "source": [
    "def correlation_rank_selection(\n",
    "    d_rank, \n",
    "    returns,\n",
    "    rolling_window=90,\n",
    "    correlation_threshold=0.9\n",
    "):\n",
    "    if d_rank.isnull().all():\n",
    "        return pd.Series(np.nan, index=d_rank.index)\n",
    "    ranks = d_rank.sort_values()\n",
    "    validity = ranks.notnull()\n",
    "    d_correlations = returns.loc[:d_rank.name, validity].tail(rolling_window).corr()\n",
    "    selected = []\n",
    "    for name, i_validity in ranks.items():\n",
    "        if np.isnan(i_validity):\n",
    "            continue\n",
    "        if not selected:\n",
    "            selected.append(name)\n",
    "            continue\n",
    "        if (d_correlations.loc[selected, name].abs() > correlation_threshold).any():\n",
    "            continue\n",
    "        selected.append(name)\n",
    "    valid_instmts = pd.Series(True, index=selected)\n",
    "    valid_instmts = valid_instmts.reindex(d_rank.index)\n",
    "    return valid_instmts"
   ]
  },
  {
   "cell_type": "code",
   "execution_count": 7,
   "metadata": {
    "tags": []
   },
   "outputs": [
    {
     "data": {
      "text/plain": [
       "<Axes: title={'center': 'Number of valid instruments in universe'}>"
      ]
     },
     "execution_count": 7,
     "metadata": {},
     "output_type": "execute_result"
    },
    {
     "data": {
      "image/png": "[encoded data removed]",
      "text/plain": [
       "<Figure size 640x480 with 1 Axes>"
      ]
     },
     "metadata": {},
     "output_type": "display_data"
    }
   ],
   "source": [
    "est_universe_validity = (est_universe_marketcap > 0.0).rolling(210, min_periods=180).sum() > 180\n",
    "est_universe_validity = (\n",
    "    est_universe_validity & \n",
    "    (est_universe_returns.abs().rolling(210, min_periods=180).median() > 0.005)\n",
    ")\n",
    "est_universe_marketcap_rank = est_universe_marketcap.where(est_universe_validity).rank(axis=1, ascending=False)\n",
    "est_universe_validity = (\n",
    "    est_universe_marketcap_rank.apply(partial(correlation_rank_selection, returns=est_universe_marketcap_rank, rolling_window=90), axis=1)\n",
    "    .fillna(False)\n",
    ")\n",
    "est_universe_validity.index = pd.to_datetime(est_universe_validity.index)\n",
    "est_universe_validity.sum(axis=1).plot(title=\"Number of valid instruments in universe\")"
   ]
  },
  {
   "cell_type": "markdown",
   "metadata": {},
   "source": [
    "# Build factor risk model from estimation universe"
   ]
  },
  {
   "cell_type": "code",
   "execution_count": 8,
   "metadata": {
    "tags": []
   },
   "outputs": [],
   "source": [
    "from tqdm import tqdm\n",
    "from fpm_risk_model.rolling_factor_risk_model import RollingFactorRiskModel\n",
    "from fpm_risk_model.statistical.pca import PCA\n",
    "from fpm_risk_model.pipeline import dump_rolling_factor_risk_model, load_rolling_factor_risk_model"
   ]
  },
  {
   "cell_type": "code",
   "execution_count": 9,
   "metadata": {
    "tags": []
   },
   "outputs": [
    {
     "name": "stderr",
     "output_type": "stream",
     "text": [
      "                                                                                                                                                                                                          \r"
     ]
    },
    {
     "data": {
      "text/plain": [
       "<fpm_risk_model.rolling_factor_risk_model.RollingFactorRiskModel at 0x141a820b0>"
      ]
     },
     "execution_count": 9,
     "metadata": {},
     "output_type": "execute_result"
    }
   ],
   "source": [
    "rolling_risk_model = RollingFactorRiskModel(\n",
    "    window=180,\n",
    "    model=PCA(n_components=0.5),\n",
    "    show_progress=True,\n",
    ")\n",
    "rolling_risk_model.fit(\n",
    "    est_universe_returns.where(est_universe_returns.abs() < 0.20),\n",
    "    validity=est_universe_validity,\n",
    ")  "
   ]
  },
  {
   "cell_type": "code",
   "execution_count": 10,
   "metadata": {
    "tags": []
   },
   "outputs": [
    {
     "name": "stderr",
     "output_type": "stream",
     "text": [
      "                                                                                                                                                                                                          \r"
     ]
    }
   ],
   "source": [
    "rolling_risk_model = load_rolling_factor_risk_model(\n",
    "    metadata_file=\"/Users/gavinchan/workspace/fpmodel-data/crypto/est-pca-model/metadata.json\",\n",
    "    format=\"parquet\"\n",
    ")"
   ]
  },
  {
   "cell_type": "markdown",
   "metadata": {},
   "source": [
    "# Load all crypto OHLCV data"
   ]
  },
  {
   "cell_type": "code",
   "execution_count": 11,
   "metadata": {
    "tags": []
   },
   "outputs": [],
   "source": [
    "model_universe_all = {}\n",
    "\n",
    "# with tarfile.open(\"crypto_estimation_universe.zip\", \"r:gz\") as gzip_file:\n",
    "with ZipFile(\"crypto_model_universe.zip\", 'r') as zip_ref:\n",
    "    with TemporaryDirectory() as temp_dir:\n",
    "        zip_ref.extractall(temp_dir)\n",
    "        price_data_dir = join(temp_dir, \"Price-Data\")\n",
    "        files = [\n",
    "            (join(price_data_dir, f), f.replace(\".csv\", \"\"))\n",
    "            for f in listdir(price_data_dir) \n",
    "            if isfile(join(price_data_dir, f))\n",
    "        ]\n",
    "\n",
    "        for file_path, name in files:\n",
    "            df = pd.read_csv(file_path)\n",
    "            df = df.set_index(\"Date\")\n",
    "            df.index = pd.to_datetime(df.index)\n",
    "            model_universe_all[name] = df"
   ]
  },
  {
   "cell_type": "code",
   "execution_count": 12,
   "metadata": {
    "tags": []
   },
   "outputs": [],
   "source": [
    "# Compute prices\n",
    "model_universe_prices = pd.DataFrame({\n",
    "    name: df[\"Adj Close\"]\n",
    "    for name, df in model_universe_all.items()\n",
    "})\n",
    "model_universe_prices = model_universe_prices.ffill().groupby(model_universe_prices.index.date).first()\n",
    "model_universe_prices.index = pd.to_datetime(model_universe_prices.index)\n",
    "model_universe_prices = model_universe_prices.sort_index(axis=1)\n",
    "model_universe_returns = model_universe_prices.pct_change()\n",
    "# Compute volumes\n",
    "model_universe_volumes = pd.DataFrame({\n",
    "    name: df[\"Adj Close\"]\n",
    "    for name, df in model_universe_all.items()\n",
    "})\n",
    "model_universe_volumes = model_universe_volumes.ffill().groupby(model_universe_volumes.index.date).first()\n",
    "model_universe_volumes.index = pd.to_datetime(model_universe_volumes.index)\n",
    "model_universe_volumes = model_universe_volumes.sort_index(axis=1)\n",
    "model_universe_volumes_usd = model_universe_volumes * model_universe_prices"
   ]
  },
  {
   "cell_type": "markdown",
   "metadata": {},
   "source": [
    "# Construct model universe\n",
    "\n",
    "Model universe is constructed by selecting the instruments by the following\n",
    "criteria in the ascending order\n",
    "\n",
    "1. Active trading for at least 6 months\n",
    "2. Median of past 6-month daily (absolute) returns should exceed 0.5% (Stablecoin exclusion)\n",
    "3. Top 50% active daily volume among all instruments\n"
   ]
  },
  {
   "cell_type": "code",
   "execution_count": 13,
   "metadata": {
    "tags": []
   },
   "outputs": [
    {
     "name": "stderr",
     "output_type": "stream",
     "text": [
      "3155it [02:50, 18.52it/s] \n"
     ]
    },
    {
     "data": {
      "text/plain": [
       "<Axes: title={'center': 'Number of valid instruments in universe'}>"
      ]
     },
     "execution_count": 13,
     "metadata": {},
     "output_type": "execute_result"
    },
    {
     "data": {
      "image/png": "[encoded data removed]",
      "text/plain": [
       "<Figure size 640x480 with 1 Axes>"
      ]
     },
     "metadata": {},
     "output_type": "display_data"
    }
   ],
   "source": [
    "model_universe_validity = (model_universe_volumes > 0.0).rolling(210, min_periods=180).sum() > 180\n",
    "model_universe_validity = model_universe_validity & (model_universe_returns.abs().rolling(210, min_periods=180).median() > 0.005)\n",
    "model_universe_volume_usd_rank = model_universe_volumes_usd.where(model_universe_validity).rank(axis=1, ascending=False)\n",
    "model_universe_volume_usd_rank = (\n",
    "    model_universe_volume_usd_rank\n",
    "    .where(model_universe_volume_usd_rank.lt(model_universe_validity.sum(axis=1) * 0.5, axis=0))\n",
    ")\n",
    "model_universe_volume_usd_rank_validity = pd.DataFrame().reindex_like(model_universe_volume_usd_rank)\n",
    "for date, row in tqdm(model_universe_volume_usd_rank.iterrows()):\n",
    "    model_universe_volume_usd_rank_validity.loc[date] = (\n",
    "        correlation_rank_selection(\n",
    "            d_rank=row,\n",
    "            returns=model_universe_returns,\n",
    "            rolling_window=90\n",
    "        )\n",
    "    )\n",
    "model_universe_validity &= model_universe_volume_usd_rank_validity\n",
    "model_universe_validity.index = pd.to_datetime(model_universe_validity.index)\n",
    "model_universe_validity.sum(axis=1).plot(title=\"Number of valid instruments in universe\")"
   ]
  },
  {
   "cell_type": "markdown",
   "metadata": {},
   "source": [
    "# Transform the risk model from estimation to model universe\n",
    "\n",
    "The transformation reuses the factor returns to compute the new set of factor exposures and idiosyncratic returns on the model universe, even though the instrument names on the two universes are different.\n",
    "\n",
    "It gives covariance matrix on a much larger number of instruments. For example, in 2023, the number of instruments in estimation and model universes are around 40 and 400 respectively."
   ]
  },
  {
   "cell_type": "code",
   "execution_count": 14,
   "metadata": {
    "tags": []
   },
   "outputs": [
    {
     "name": "stderr",
     "output_type": "stream",
     "text": [
      "                                                                                                                                                                                                          \r"
     ]
    },
    {
     "data": {
      "text/plain": [
       "<fpm_risk_model.rolling_factor_risk_model.RollingFactorRiskModel at 0x141a831f0>"
      ]
     },
     "execution_count": 14,
     "metadata": {},
     "output_type": "execute_result"
    }
   ],
   "source": [
    "rolling_risk_model.transform(\n",
    "    model_universe_returns.where(model_universe_returns.abs() < 0.2),\n",
    "    validity=model_universe_validity,\n",
    ")"
   ]
  },
  {
   "cell_type": "code",
   "execution_count": null,
   "metadata": {},
   "outputs": [
    {
     "name": "stderr",
     "output_type": "stream",
     "text": [
      " 88%|██████████████████████████████████████████████████████████████████████████████████████████████████████████████████████████████████████████████▏                  | 2529/2864 [02:15<01:04,  5.22it/s]"
     ]
    }
   ],
   "source": [
    "base_path = \"/Users/gavinchan/workspace/fpmodel-data/crypto\"\n",
    "model_universe_validity.to_parquet(\n",
    "    f\"{base_path}/model_universe_validity.parquet\"\n",
    ")\n",
    "dump_rolling_factor_risk_model(\n",
    "    metadata_file=f\"{base_path}/model-pca-model/metadata.json\",\n",
    "    format=\"parquet\",\n",
    "    rolling_risk_model=rolling_risk_model,\n",
    ")"
   ]
  },
  {
   "cell_type": "code",
   "execution_count": null,
   "metadata": {},
   "outputs": [],
   "source": [
    "from fpm_risk_model.rolling_factor_risk_model import RollingFactorRiskModel\n",
    "from fpm_risk_model.accuracy import compute_bias_statistics\n",
    "weights = model_universe_validity.div(model_universe_validity.sum(axis=1), axis=0)\n",
    "bias_statistics = compute_bias_statistics(\n",
    "    X=model_universe_returns.where(model_universe_returns.abs() < 0.2),\n",
    "    weights=weights,\n",
    "    window=60,\n",
    "    rolling_risk_model=rolling_risk_model,\n",
    ")\n",
    "bias_statistics.plot()"
   ]
  },
  {
   "cell_type": "code",
   "execution_count": null,
   "metadata": {},
   "outputs": [],
   "source": []
  }
 ],
 "metadata": {
  "kernelspec": {
   "display_name": "Python 3 (ipykernel)",
   "language": "python",
   "name": "python3"
  },
  "language_info": {
   "codemirror_mode": {
    "name": "ipython",
    "version": 3
   },
   "file_extension": ".py",
   "mimetype": "text/x-python",
   "name": "python",
   "nbconvert_exporter": "python",
   "pygments_lexer": "ipython3",
   "version": "3.10.9"
  },
  "vscode": {
   "interpreter": {
    "hash": "9fb0a99b275a47ac71e4ad805cfab0f6cda26a1b1210f8c3dc3b16290b4045fe"
   }
  }
 },
 "nbformat": 4,
 "nbformat_minor": 4
}
